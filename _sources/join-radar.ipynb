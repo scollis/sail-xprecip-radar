{
 "cells": [
  {
   "cell_type": "markdown",
   "id": "919df53b-5f46-4400-a40e-b1c9f264769e",
   "metadata": {},
   "source": [
    "### Join sweeps of the ARM Supported CSU X-Band Radar\n",
    "The data from the X-Band radar at SAIL, on contract from CSU, returns a sweep per file. Common analyses are done on volumes, nested sweeps. This code finds and joins them together"
   ]
  },
  {
   "cell_type": "code",
   "execution_count": null,
   "id": "83789a11-cce0-4c21-a7be-363e5485d801",
   "metadata": {},
   "outputs": [],
   "source": []
  }
 ],
 "metadata": {
  "kernelspec": {
   "display_name": "pyart-simple",
   "language": "python",
   "name": "pyart-simple"
  },
  "language_info": {
   "codemirror_mode": {
    "name": "ipython",
    "version": 3
   },
   "file_extension": ".py",
   "mimetype": "text/x-python",
   "name": "python",
   "nbconvert_exporter": "python",
   "pygments_lexer": "ipython3",
   "version": "3.6.15"
  }
 },
 "nbformat": 4,
 "nbformat_minor": 5
}
