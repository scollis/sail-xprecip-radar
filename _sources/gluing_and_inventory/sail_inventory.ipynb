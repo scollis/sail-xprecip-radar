{
 "cells": [
  {
   "cell_type": "code",
   "execution_count": 1,
   "id": "6b4863a9-6db7-49c1-a34a-7f2797c7b724",
   "metadata": {},
   "outputs": [
    {
     "name": "stdout",
     "output_type": "stream",
     "text": [
      "\n",
      "## You are using the Python ARM Radar Toolkit (Py-ART), an open source\n",
      "## library for working with weather radar data. Py-ART is partly\n",
      "## supported by the U.S. Department of Energy as part of the Atmospheric\n",
      "## Radiation Measurement (ARM) Climate Research Facility, an Office of\n",
      "## Science user facility.\n",
      "##\n",
      "## If you use this software to prepare a publication, please cite:\n",
      "##\n",
      "##     JJ Helmus and SM Collis, JORS 2016, doi: 10.5334/jors.119\n",
      "\n"
     ]
    }
   ],
   "source": [
    "from os import path\n",
    "import nexradaws\n",
    "import time\n",
    "import tempfile\n",
    "import os\n",
    "import shutil\n",
    "import pyart\n",
    "from datetime import datetime, timedelta\n",
    "from matplotlib import pyplot as plt\n",
    "\n",
    "import cartopy.crs as ccrs\n",
    "import cartopy.feature as cfeature\n",
    "\n",
    "from cartopy.feature import NaturalEarthFeature\n",
    "import matplotlib.colors as colors\n",
    "\n",
    "\n",
    "import numpy as np\n",
    "\n",
    "import pytz\n",
    "from copy import deepcopy\n",
    "\n",
    "from math import atan2 as atan2\n",
    "import warnings\n",
    "\n",
    "%matplotlib inline"
   ]
  },
  {
   "cell_type": "code",
   "execution_count": 2,
   "id": "9226022e-97bd-4acb-8662-78c8b2d9388d",
   "metadata": {},
   "outputs": [],
   "source": [
    "def custom_plotfunc(ds, fig, tt, *args, **kwargs):\n",
    "    projection = ccrs.PlateCarree()\n",
    "    lat = 38.89838028\n",
    "    lon = -106.94321442\n",
    "    map_panel_axes = [0.05, 0.05, .4, .80]\n",
    "    x_cut_panel_axes = [0.6, 0.10, .4, .25]\n",
    "    y_cut_panel_axes = [0.6, 0.50, .4, .25]\n",
    "\n",
    "    ax1 = fig.add_axes(map_panel_axes, projection=projection)\n",
    "    \n",
    "    ds.DBZ.sel(z=1000, method=\"nearest\").isel(time=tt).plot.pcolormesh(vmin=-10, vmax=64,\n",
    "                                              cmap=pyart.graph.cm_colorblind.HomeyerRainbow, ax=ax1,\n",
    "                                                                               add_colorbar=False)\n",
    "    \n",
    "    gl = ax1.gridlines(draw_labels=True,\n",
    "                  linewidth=2, color='gray', alpha=0.5, linestyle='--')\n",
    "    ax1.add_feature(cfeature.COASTLINE)\n",
    "    \n",
    "    ax2 = fig.add_axes(x_cut_panel_axes)\n",
    "    ds.DBZ.sel(x=lon, method=\"nearest\").isel(time=tt).plot.pcolormesh(vmin=-10, vmax=64,\n",
    "                                              cmap=pyart.graph.cm_colorblind.HomeyerRainbow, ax=ax2)\n",
    "    \n",
    "    y_axis = ax2.axes.get_yaxis()\n",
    "    y_axis.set_label_text('Height (m)')\n",
    "    \n",
    "    ax2.set_ylim([0, 8000])\n",
    "    \n",
    "\n",
    "    ax3 = fig.add_axes(y_cut_panel_axes)\n",
    "    ds.DBZ.sel(y=lat, method=\"nearest\").isel(time=tt).plot.pcolormesh(vmin=-10, vmax=64,\n",
    "                                              cmap=pyart.graph.cm_colorblind.HomeyerRainbow, ax=ax3)\n",
    "    \n",
    "    y_axis = ax3.axes.get_yaxis()\n",
    "    y_axis.set_label_text('Height (m)')\n",
    "    \n",
    "    ax3.set_ylim([0, 8000])\n",
    "\n",
    "    gl.xlabel_style = {'fontsize': 10}\n",
    "    gl.ylabel_style = {'fontsize': 10}\n",
    "    \n",
    "    return None, None\n",
    "\n",
    "\n"
   ]
  },
  {
   "cell_type": "code",
   "execution_count": 3,
   "id": "001535d9-01c6-4c96-9a81-d5ed795826dd",
   "metadata": {},
   "outputs": [],
   "source": [
    "data_dir = '/eagle/CPOL/SAIL/202112_glued/'\n",
    "all_files = os.listdir(data_dir)"
   ]
  },
  {
   "cell_type": "code",
   "execution_count": 4,
   "id": "90c61424-2a4a-43a2-bce1-aed8c03053aa",
   "metadata": {},
   "outputs": [],
   "source": [
    "for i in range(len(all_files)):\n",
    "    all_files[i] = os.path.join(data_dir, all_files[i])"
   ]
  },
  {
   "cell_type": "code",
   "execution_count": null,
   "id": "d0b2c8c2-81a3-465f-b76f-cc3442406507",
   "metadata": {},
   "outputs": [],
   "source": [
    "radar = pyart.io.read(all_files[400])\n",
    "grids = pyart.map.grid_from_radars((radar),(17,601,601),\n",
    "                       ((0.,8000.),(-30000.,30000.),(-30000.,30000.)), \n",
    "                                       weighting_function='Barnes2')"
   ]
  },
  {
   "cell_type": "code",
   "execution_count": null,
   "id": "f518cf84-53b1-4aea-b8f0-78bc7dc04e10",
   "metadata": {},
   "outputs": [],
   "source": [
    "xgrids = grids.to_xarray()\n",
    "xgrids = xgrids.set_index(x='lon', y='lat')"
   ]
  },
  {
   "cell_type": "code",
   "execution_count": null,
   "id": "77c4a440-e5dd-4e1b-b766-1264e73a1990",
   "metadata": {},
   "outputs": [],
   "source": [
    "figme = plt.figure(figsize=[15,10])\n",
    "custom_plotfunc(xgrids, figme, 0)"
   ]
  },
  {
   "cell_type": "code",
   "execution_count": null,
   "id": "c7b63412-188e-4721-813a-b51caec892cb",
   "metadata": {},
   "outputs": [],
   "source": [
    "gtime = xgrids.time.data[0]"
   ]
  },
  {
   "cell_type": "code",
   "execution_count": null,
   "id": "a7597648-6a3d-4b0e-9b74-7f50859cb660",
   "metadata": {},
   "outputs": [],
   "source": [
    "fname = gtime.strftime('/eagle/projects/CPOL/SAIL/grids/%Y%m/xprecipradar_guc_grid_%Y%m%d-%H%M%S.b1.nc')"
   ]
  },
  {
   "cell_type": "code",
   "execution_count": null,
   "id": "4b561e96-58af-4c8f-859b-42cbf976d31a",
   "metadata": {},
   "outputs": [],
   "source": [
    "print(fname)"
   ]
  },
  {
   "cell_type": "code",
   "execution_count": null,
   "id": "f962ecca-9163-42fb-b577-7ea0c42df65b",
   "metadata": {},
   "outputs": [],
   "source": [
    "xgrids.to_netcdf(fname)"
   ]
  },
  {
   "cell_type": "code",
   "execution_count": 5,
   "id": "a8cb28be-4e7e-4de0-b945-c9e7e013664a",
   "metadata": {},
   "outputs": [],
   "source": [
    "def granule(filename):\n",
    "    radar = pyart.io.read(filename)\n",
    "    grids = pyart.map.grid_from_radars((radar),(17,601,601),\n",
    "                       ((0.,8000.),(-30000.,30000.),(-30000.,30000.)), \n",
    "                                       weighting_function='Barnes2')\n",
    "    xgrids = grids.to_xarray()\n",
    "    xgrids = xgrids.set_index(x='lon', y='lat')\n",
    "    gtime = xgrids.time.data[0]\n",
    "    fname = gtime.strftime('/eagle/projects/CPOL/SAIL/grids/%Y%m/xprecipradar_guc_grid_%Y%m%d-%H%M%S.b1.nc')\n",
    "    xgrids.to_netcdf(fname)\n",
    "    return fname\n",
    "    "
   ]
  },
  {
   "cell_type": "code",
   "execution_count": 6,
   "id": "22b1619e-e5f0-41a1-98a7-73f687d59767",
   "metadata": {},
   "outputs": [
    {
     "data": {
      "text/plain": [
       "'/eagle/projects/CPOL/SAIL/grids/202112/xprecipradar_guc_grid_20211215-181231.b1.nc'"
      ]
     },
     "execution_count": 6,
     "metadata": {},
     "output_type": "execute_result"
    }
   ],
   "source": [
    "granule(all_files[20])"
   ]
  },
  {
   "cell_type": "code",
   "execution_count": 7,
   "id": "158c36b5-58ad-4376-a496-00ef4a1bb396",
   "metadata": {},
   "outputs": [],
   "source": [
    "from dask.distributed import Client, LocalCluster\n"
   ]
  },
  {
   "cell_type": "code",
   "execution_count": 8,
   "id": "85ecad7a-8f7a-4e09-918d-11f5d1a43149",
   "metadata": {},
   "outputs": [],
   "source": [
    "from dask.distributed import Client, LocalCluster\n",
    "\n",
    "#cluster = LocalCluster()\n",
    "\n"
   ]
  },
  {
   "cell_type": "code",
   "execution_count": 10,
   "id": "af6b0698-bc43-4059-b848-a743d77a35bf",
   "metadata": {},
   "outputs": [
    {
     "data": {
      "text/html": [
       "<table style=\"border: 2px solid white;\">\n",
       "<tr>\n",
       "<td style=\"vertical-align: top; border: 0px solid white\">\n",
       "<h3 style=\"text-align: left;\">Client</h3>\n",
       "<ul style=\"text-align: left; list-style: none; margin: 0; padding: 0;\">\n",
       "  <li><b>Scheduler: </b>tcp://127.0.0.1:44800</li>\n",
       "  <li><b>Dashboard: </b><a href='http://127.0.0.1:8787/status' target='_blank'>http://127.0.0.1:8787/status</a></li>\n",
       "</ul>\n",
       "</td>\n",
       "<td style=\"vertical-align: top; border: 0px solid white\">\n",
       "<h3 style=\"text-align: left;\">Cluster</h3>\n",
       "<ul style=\"text-align: left; list-style:none; margin: 0; padding: 0;\">\n",
       "  <li><b>Workers: </b>16</li>\n",
       "  <li><b>Cores: </b>128</li>\n",
       "  <li><b>Memory: </b>1.08 TB</li>\n",
       "</ul>\n",
       "</td>\n",
       "</tr>\n",
       "</table>"
      ],
      "text/plain": [
       "<Client: 'tcp://127.0.0.1:44800' processes=16 threads=128, memory=1.08 TB>"
      ]
     },
     "execution_count": 10,
     "metadata": {},
     "output_type": "execute_result"
    }
   ],
   "source": [
    "cluster = LocalCluster()\n",
    "\n",
    "cluster.scale(16)  # Sets the number of workers to 10\n",
    "cluster.adapt(minimum=8, maximum=16)\n",
    "client = Client(cluster)\n",
    "client\n",
    "client"
   ]
  },
  {
   "cell_type": "code",
   "execution_count": 25,
   "id": "34c112a6-95b5-496b-8fa0-1508b7b806f3",
   "metadata": {},
   "outputs": [],
   "source": [
    "future = client.map(granule, all_files[-500:-400])"
   ]
  },
  {
   "cell_type": "code",
   "execution_count": 26,
   "id": "5049b063-84f3-42ee-bb32-3dea116cf6a2",
   "metadata": {},
   "outputs": [],
   "source": [
    "my_data = client.gather(future)"
   ]
  },
  {
   "cell_type": "code",
   "execution_count": null,
   "id": "ed6d2e8f-5a0f-41bc-ad83-adafdfc34ee8",
   "metadata": {},
   "outputs": [],
   "source": [
    "len(my_data)"
   ]
  },
  {
   "cell_type": "code",
   "execution_count": null,
   "id": "46c3edab-7d0b-4093-94a7-daee21f5ac65",
   "metadata": {},
   "outputs": [],
   "source": [
    "my_data"
   ]
  },
  {
   "cell_type": "code",
   "execution_count": 28,
   "id": "297750fa-8db0-4a46-bc03-335966d506e3",
   "metadata": {},
   "outputs": [
    {
     "name": "stdout",
     "output_type": "stream",
     "text": [
      "CPOL has no allocation on cooley.\n",
      "Projects available: \n",
      "For assistance, contact support@alcf.anl.gov\n",
      "Filter /usr/bin/ni-account.filter failed\n"
     ]
    }
   ],
   "source": []
  },
  {
   "cell_type": "code",
   "execution_count": null,
   "id": "cc3c6804-7908-4182-94e5-646eae766925",
   "metadata": {},
   "outputs": [],
   "source": []
  }
 ],
 "metadata": {
  "kernelspec": {
   "display_name": "pyart-simple",
   "language": "python",
   "name": "pyart-simple"
  },
  "language_info": {
   "codemirror_mode": {
    "name": "ipython",
    "version": 3
   },
   "file_extension": ".py",
   "mimetype": "text/x-python",
   "name": "python",
   "nbconvert_exporter": "python",
   "pygments_lexer": "ipython3",
   "version": "3.6.15"
  }
 },
 "nbformat": 4,
 "nbformat_minor": 5
}
