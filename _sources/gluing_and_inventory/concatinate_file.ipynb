{
 "cells": [
  {
   "cell_type": "code",
   "execution_count": null,
   "id": "651b9cf0-c8bb-4ccc-90bd-80624845243a",
   "metadata": {},
   "outputs": [],
   "source": [
    "import os\n",
    "import pyart\n",
    "from matplotlib import pyplot as plt\n",
    "import numpy as np\n",
    "import time\n",
    "import datetime\n",
    "%matplotlib inline"
   ]
  },
  {
   "cell_type": "code",
   "execution_count": null,
   "id": "43b41b2e-7347-4a8e-88fe-73411a63d00e",
   "metadata": {},
   "outputs": [],
   "source": []
  },
  {
   "cell_type": "code",
   "execution_count": null,
   "id": "3e7792af-42a1-42d1-8af7-8f026069eaf5",
   "metadata": {},
   "outputs": [],
   "source": [
    "data_dir = '/eagle/projects/CPOL/SAIL/202111/'\n",
    "all_files = os.listdir(data_dir)\n",
    "all_files.sort()"
   ]
  },
  {
   "cell_type": "code",
   "execution_count": null,
   "id": "ad702eaa-057e-4296-b2a0-707712dbace1",
   "metadata": {},
   "outputs": [],
   "source": [
    "base_scan_ppi = '1_PPI.nc'\n",
    "ppi_pattern = 'PPI.nc'\n",
    "base_scans = []\n",
    "volumes = []\n",
    "ppis = []\n",
    "in_volume = False\n",
    "for file in all_files:\n",
    "    if ppi_pattern in file:\n",
    "        ppis.append(file)\n",
    "    if base_scan_ppi in file:\n",
    "        base_scans.append(file)\n",
    "    \n"
   ]
  },
  {
   "cell_type": "code",
   "execution_count": null,
   "id": "f852f1eb-4e96-4989-a461-6bfa7d7d9b85",
   "metadata": {},
   "outputs": [],
   "source": [
    "n_tilts = 8"
   ]
  },
  {
   "cell_type": "code",
   "execution_count": null,
   "id": "e669b513-4038-4baa-a433-c23a6a15ec9f",
   "metadata": {},
   "outputs": [],
   "source": [
    "index = np.where(np.array(ppis) == base_scans[0])[0][0]\n",
    "print(index)\n",
    "print(ppis[index: index+n_tilts])"
   ]
  },
  {
   "cell_type": "code",
   "execution_count": null,
   "id": "d9962404-23d2-4932-a674-c341ffcb3eb6",
   "metadata": {},
   "outputs": [],
   "source": [
    "volumes = []\n",
    "for base in base_scans:\n",
    "    base_scan_index = np.where(np.array(ppis) == base)[0][0]\n",
    "    #print(base_scan_index)\n",
    "    volume = ppis[base_scan_index: base_scan_index+n_tilts]\n",
    "    volumes.append(volume)"
   ]
  },
  {
   "cell_type": "code",
   "execution_count": null,
   "id": "e2ce11e5-cbe0-4417-9519-5f79c3a8bbbb",
   "metadata": {},
   "outputs": [],
   "source": [
    "volumes[0]"
   ]
  },
  {
   "cell_type": "code",
   "execution_count": null,
   "id": "e1c0a37e-c88e-4cd9-931b-1ef3d5a50602",
   "metadata": {},
   "outputs": [],
   "source": [
    "base_radar = pyart.io.read(data_dir+volumes[0][0])\n",
    "radars = [pyart.io.read(data_dir+sw) for sw in volumes[0][1::]]"
   ]
  },
  {
   "cell_type": "code",
   "execution_count": null,
   "id": "1d613986-b4b8-460b-98e2-772c092c3658",
   "metadata": {},
   "outputs": [],
   "source": [
    "base_radar.elevation['data'].mean()"
   ]
  },
  {
   "cell_type": "code",
   "execution_count": null,
   "id": "9515ebbe-c020-4745-aee7-bd05dab4bd98",
   "metadata": {},
   "outputs": [],
   "source": [
    "radars"
   ]
  },
  {
   "cell_type": "code",
   "execution_count": null,
   "id": "bbb380af-132a-4b29-903b-64d0f4c85761",
   "metadata": {},
   "outputs": [],
   "source": [
    "for rad in radars:\n",
    "    print(rad.elevation['data'].mean())\n",
    "    print(rad.fixed_angle['data'])"
   ]
  },
  {
   "cell_type": "code",
   "execution_count": null,
   "id": "d8392dfa-9f31-44a0-9345-7d2422605a2f",
   "metadata": {},
   "outputs": [],
   "source": [
    "for rad in radars:\n",
    "    base_radar = pyart.util.join_radar(base_radar, rad)"
   ]
  },
  {
   "cell_type": "code",
   "execution_count": null,
   "id": "221e142c-cab5-4058-88d9-1ac58a91ba2f",
   "metadata": {},
   "outputs": [],
   "source": [
    "base_radar.nsweeps"
   ]
  },
  {
   "cell_type": "code",
   "execution_count": null,
   "id": "b1c45ce3-2458-4007-bf04-92c8751ae2a0",
   "metadata": {},
   "outputs": [],
   "source": [
    "base_radar.info()"
   ]
  },
  {
   "cell_type": "code",
   "execution_count": null,
   "id": "41046e3f-af62-4c2d-a43d-dd4e5e113f67",
   "metadata": {},
   "outputs": [],
   "source": [
    "base_radar.fixed_angle"
   ]
  },
  {
   "cell_type": "code",
   "execution_count": null,
   "id": "2d9ae7e5-01e6-4a7d-9a23-48844b85cf93",
   "metadata": {},
   "outputs": [],
   "source": [
    "def radar_glue(b_radar, radar_list):\n",
    "    for rad in radar_list:\n",
    "        b_radar = pyart.util.join_radar(b_radar, rad)\n",
    "    \n",
    "    return b_radar"
   ]
  },
  {
   "cell_type": "code",
   "execution_count": null,
   "id": "dcba6886-f6f2-4dfa-bd29-1b46a8c1c156",
   "metadata": {},
   "outputs": [],
   "source": [
    "def volume_from_list(vlist, base_dir):\n",
    "    base_radar = pyart.io.read(base_dir+vlist[0])\n",
    "    radars = [pyart.io.read(base_dir+sw) for sw in vlist[1::]]\n",
    "    return radar_glue(base_radar, radars)"
   ]
  },
  {
   "cell_type": "code",
   "execution_count": null,
   "id": "4f4cb5cb-c736-4e97-99bc-62d7f4c9e4b7",
   "metadata": {},
   "outputs": [],
   "source": [
    "fourth_volume = volume_from_list(volumes[400], data_dir)"
   ]
  },
  {
   "cell_type": "code",
   "execution_count": null,
   "id": "2b738062-9791-4682-862f-7d891b03b1f5",
   "metadata": {},
   "outputs": [],
   "source": [
    "figme = plt.figure(figsize=[15,10])\n",
    "display = pyart.graph.RadarMapDisplay(fourth_volume)\n",
    "    \n",
    "# Add our reflectivity (DBZ) field to the plot, including our gatefilter\n",
    "display.plot_ppi_map('DBZ', 0, vmin=-20, vmax=40.)\n"
   ]
  },
  {
   "cell_type": "code",
   "execution_count": null,
   "id": "92d76feb-83f7-4be7-acc5-b307d62f4b85",
   "metadata": {},
   "outputs": [],
   "source": [
    "figme = plt.figure(figsize=[15,10])\n",
    "display = pyart.graph.RadarMapDisplay(fourth_volume)\n",
    "    \n",
    "# Add our reflectivity (DBZ) field to the plot, including our gatefilter\n",
    "display.plot_ppi_map('DBZ', 7, vmin=-20, vmax=40.)\n"
   ]
  },
  {
   "cell_type": "code",
   "execution_count": null,
   "id": "25973669-21f3-480b-bdd5-34c0549daf96",
   "metadata": {},
   "outputs": [],
   "source": [
    "for vvl in volumes[0:1]:\n",
    "    if len(vvl) == n_tilts:\n",
    "        out_radar = volume_from_list(vvl, data_dir)\n",
    "        print(out_radar.time['units'][14:])\n",
    "        ff = time.strptime(out_radar.time['units'][14:], '%Y-%m-%dT%H:%M:%SZ')\n",
    "        dt = datetime.datetime.fromtimestamp(time.mktime(ff)) + datetime.timedelta(seconds= int(out_radar.time['data'][0]))\n",
    "        strform = dt.strftime('/eagle/projects/CPOL/SAIL/202111_glued/xprecipradar_guc_volume_%Y%m%d-%H%M%S.b1.nc')\n",
    "        print(strform)\n",
    "        #FIX for join issue.. to be fixed in Py-ART\n",
    "        out_radar.sweep_mode['data']=np.tile(radars[0].sweep_mode['data'], n_tilts)\n",
    "        pyart.io.write_cfradial(strform, out_radar)\n",
    "        "
   ]
  },
  {
   "cell_type": "code",
   "execution_count": null,
   "id": "d457e2dd-8869-4566-8b34-24c161f32ca9",
   "metadata": {},
   "outputs": [],
   "source": [
    "acompletelynewradar = pyart.io.read('/eagle/projects/CPOL/SAIL/202111_glued/xprecipradar_guc_volume_20211110-000110.b1.nc')"
   ]
  },
  {
   "cell_type": "code",
   "execution_count": null,
   "id": "09e46d5c-f226-45f2-95ae-6cfee57908d1",
   "metadata": {},
   "outputs": [],
   "source": [
    "figme = plt.figure(figsize=[15,10])\n",
    "display = pyart.graph.RadarMapDisplay(acompletelynewradar)\n",
    "    \n",
    "# Add our reflectivity (DBZ) field to the plot, including our gatefilter\n",
    "display.plot_ppi_map('DBZ', 7, vmin=-20, vmax=40.)\n"
   ]
  },
  {
   "cell_type": "code",
   "execution_count": null,
   "id": "dfdcd3ae-750f-49f3-bcf3-b03097b65f4f",
   "metadata": {},
   "outputs": [],
   "source": [
    "def granule(Dvolume):\n",
    "    data_dir = '/eagle/projects/CPOL/SAIL/202111/'\n",
    "    if len(Dvolume) == 8:\n",
    "        base_rad = pyart.io.read(data_dir+Dvolume[0])\n",
    "        out_radar = volume_from_list(Dvolume, data_dir)\n",
    "        print(out_radar.time['units'][14:])\n",
    "        ff = time.strptime(out_radar.time['units'][14:], '%Y-%m-%dT%H:%M:%SZ')\n",
    "        dt = datetime.datetime.fromtimestamp(time.mktime(ff)) + datetime.timedelta(seconds= int(out_radar.time['data'][0]))\n",
    "        strform = dt.strftime('/eagle/projects/CPOL/SAIL/202111_glued/xprecipradar_guc_volume_%Y%m%d-%H%M%S.b1.nc')\n",
    "        print(strform)\n",
    "        #FIX for join issue.. to be fixed in Py-ART\n",
    "        out_radar.sweep_mode['data']=np.tile(base_rad.sweep_mode['data'], n_tilts)\n",
    "        pyart.io.write_cfradial(strform, out_radar)"
   ]
  },
  {
   "cell_type": "code",
   "execution_count": null,
   "id": "c9edef51-12e1-4b43-9245-ce7b24767a71",
   "metadata": {},
   "outputs": [],
   "source": [
    "granule(volumes[0])"
   ]
  },
  {
   "cell_type": "code",
   "execution_count": null,
   "id": "3c30bfa8-c79b-4b52-a56c-985a9fc32461",
   "metadata": {},
   "outputs": [],
   "source": [
    "from dask.distributed import Client, LocalCluster\n",
    "\n",
    "cluster = LocalCluster()\n",
    "\n",
    "cluster.scale(16)  # Sets the number of workers to 10\n",
    "cluster.adapt(minimum=8, maximum=16)\n",
    "client = Client(cluster)\n",
    "client"
   ]
  },
  {
   "cell_type": "code",
   "execution_count": null,
   "id": "2a6b9e7c-4d3f-4abb-af31-b0eebeee8e15",
   "metadata": {},
   "outputs": [],
   "source": [
    "future = client.map(granule, volumes)"
   ]
  },
  {
   "cell_type": "code",
   "execution_count": null,
   "id": "f95dd65f-2812-4f53-a550-9ea01ed59e4e",
   "metadata": {},
   "outputs": [],
   "source": [
    "my_data = client.gather(future)"
   ]
  },
  {
   "cell_type": "code",
   "execution_count": null,
   "id": "08254fae-3631-4b21-8a83-29dc84afebac",
   "metadata": {},
   "outputs": [],
   "source": [
    "client"
   ]
  },
  {
   "cell_type": "code",
   "execution_count": null,
   "id": "fb03d974-a65d-43e2-80e7-b778843d1e6e",
   "metadata": {},
   "outputs": [],
   "source": []
  }
 ],
 "metadata": {
  "kernelspec": {
   "display_name": "pyart-simple",
   "language": "python",
   "name": "pyart-simple"
  },
  "language_info": {
   "codemirror_mode": {
    "name": "ipython",
    "version": 3
   },
   "file_extension": ".py",
   "mimetype": "text/x-python",
   "name": "python",
   "nbconvert_exporter": "python",
   "pygments_lexer": "ipython3",
   "version": "3.6.15"
  }
 },
 "nbformat": 4,
 "nbformat_minor": 5
}
